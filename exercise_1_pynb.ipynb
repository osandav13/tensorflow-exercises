{
  "nbformat": 4,
  "nbformat_minor": 0,
  "metadata": {
    "colab": {
      "name": "exercise_1.pynb",
      "provenance": [],
      "authorship_tag": "ABX9TyPHLb6GU/CWgz0NkZ8Q9kXh"
    },
    "kernelspec": {
      "name": "python3",
      "display_name": "Python 3"
    }
  },
  "cells": [
    {
      "cell_type": "code",
      "metadata": {
        "colab": {
          "base_uri": "https://localhost:8080/"
        },
        "id": "cC8kECcRS6gE",
        "outputId": "10ca11ae-8274-403c-f6ff-c3dbac1200be"
      },
      "source": [
        "%tensorflow_version 2.x\r\n",
        "import tensorflow as tf\r\n",
        "print(tf.version)\r\n",
        "\r\n",
        "first_t = tf.zeros([2,2,2])\r\n",
        "first_t = tf.reshape(first_t,[8])\r\n",
        "print(first_t)"
      ],
      "execution_count": 3,
      "outputs": [
        {
          "output_type": "stream",
          "text": [
            "<module 'tensorflow._api.v2.version' from '/usr/local/lib/python3.6/dist-packages/tensorflow/_api/v2/version/__init__.py'>\n",
            "tf.Tensor([0. 0. 0. 0. 0. 0. 0. 0.], shape=(8,), dtype=float32)\n"
          ],
          "name": "stdout"
        }
      ]
    }
  ]
}